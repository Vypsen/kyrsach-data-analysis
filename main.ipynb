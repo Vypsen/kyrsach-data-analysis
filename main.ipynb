{
 "cells": [
  {
   "cell_type": "code",
   "execution_count": 57,
   "metadata": {},
   "outputs": [],
   "source": [
    "import pandas as pd\n",
    "import numpy as np\n",
    "\n",
    "data = pd.read_excel('dataset.xlsx')\n",
    "\n",
    "data.columns.array[0:10] = pd.Index(map(str.title, data.columns.array[0:10]))\n",
    "cols = data.columns.delete(0)\n",
    "data.loc[data.duplicated(subset=cols)]\n",
    "data = data.drop_duplicates(subset=cols)\n",
    "\n"
   ]
  },
  {
   "cell_type": "code",
   "execution_count": 58,
   "metadata": {},
   "outputs": [],
   "source": [
    "data.dropna( how='all', axis=1, inplace = True)\n",
    "del data['Unnamed: 31']\n"
   ]
  },
  {
   "cell_type": "code",
   "execution_count": 59,
   "metadata": {},
   "outputs": [
    {
     "data": {
      "text/plain": [
       "да (IV Б стадия)    53\n",
       "да (IV В стадия)    12\n",
       "да (V стадия)        8\n",
       "да (IV А стадия)     3\n",
       "Name: ВИЧ-инфекция, dtype: int64"
      ]
     },
     "execution_count": 59,
     "metadata": {},
     "output_type": "execute_result"
    }
   ],
   "source": [
    "data['ВИЧ-инфекция'] = data['ВИЧ-инфекция'].replace('да (ст IV Б)', 'да (IV Б стадия)')\n",
    "data['ВИЧ-инфекция'] = data['ВИЧ-инфекция'].replace('да (ст V)', 'да (V стадия)')\n",
    "data['ВИЧ-инфекция'] = data['ВИЧ-инфекция'].replace('да (ст IV В)', 'да (IV В стадия)')\n",
    "data['ВИЧ-инфекция'].value_counts()"
   ]
  },
  {
   "cell_type": "code",
   "execution_count": 60,
   "metadata": {},
   "outputs": [
    {
     "name": "stdout",
     "output_type": "stream",
     "text": [
      "<class 'pandas.core.frame.DataFrame'>\n",
      "Int64Index: 450 entries, 0 to 506\n",
      "Data columns (total 83 columns):\n",
      " #   Column                                                 Non-Null Count  Dtype \n",
      "---  ------                                                 --------------  ----- \n",
      " 0   Номер                                                  450 non-null    int64 \n",
      " 1   Пол                                                    450 non-null    object\n",
      " 2   Возраст                                                450 non-null    int64 \n",
      " 3   К/Дней                                                 450 non-null    int64 \n",
      " 4   Рост                                                   450 non-null    int64 \n",
      " 5   Вес                                                    450 non-null    int64 \n",
      " 6   Работает                                               450 non-null    object\n",
      " 7   Пенсионер                                              450 non-null    object\n",
      " 8   Инвалидность                                           450 non-null    object\n",
      " 9   Контакт С Больным Туберкулезом                         450 non-null    object\n",
      " 10  МЛС                                                    450 non-null    object\n",
      " 11  БОМЖ                                                   450 non-null    object\n",
      " 12  Курение стаж                                           450 non-null    object\n",
      " 13  Курение пачка/лет                                      450 non-null    object\n",
      " 14  Алкоголь                                               450 non-null    object\n",
      " 15  Наркотики курят                                        450 non-null    object\n",
      " 16  Наркотики в/в                                          450 non-null    object\n",
      " 17  Диагноз                                                450 non-null    object\n",
      " 18  Группы учета                                           450 non-null    object\n",
      " 19  ВИЧ-инфекция                                           450 non-null    object\n",
      " 20  Бронхиальная астма                                     450 non-null    object\n",
      " 21  ХОБЛ                                                   450 non-null    object\n",
      " 22  Хр.гастрит                                             450 non-null    object\n",
      " 23  Язвенная болезнь желудка                               450 non-null    object\n",
      " 24  Гепатит В                                              450 non-null    object\n",
      " 25  Гепатит С                                              450 non-null    object\n",
      " 26  Токсический гепатит                                    450 non-null    object\n",
      " 27  Цирроз печени                                          450 non-null    object\n",
      " 28  Пиелонефрит                                            450 non-null    object\n",
      " 29  Анемия                                                 450 non-null    object\n",
      " 30  Сахарный диабет, 1-й тип                               450 non-null    object\n",
      " 31  ИБС                                                    450 non-null    object\n",
      " 32  АГ                                                     450 non-null    object\n",
      " 33  Другие заболевания                                     450 non-null    object\n",
      " 34  Диаскинтест                                            450 non-null    object\n",
      " 35  Мокрота                                                450 non-null    object\n",
      " 36  Промывные воды бронхов                                 450 non-null    object\n",
      " 37  Плевральный экссудат                                   450 non-null    object\n",
      " 38  Микроскопия                                            450 non-null    object\n",
      " 39  МБТ                                                    450 non-null    object\n",
      " 40  Интенсивность роста                                    450 non-null    object\n",
      " 41  ПЦР-анализ                                             450 non-null    object\n",
      " 42  Изониазид                                              450 non-null    object\n",
      " 43  Рифампицин                                             450 non-null    object\n",
      " 44  Пиразинамид                                            450 non-null    object\n",
      " 45  Этамбутол                                              450 non-null    object\n",
      " 46  Стрептомицин                                           450 non-null    object\n",
      " 47  Канамицин                                              450 non-null    object\n",
      " 48  Амикацин                                               450 non-null    object\n",
      " 49  Протионамид                                            450 non-null    object\n",
      " 50  Этионамид                                              450 non-null    object\n",
      " 51  Циклосерин                                             450 non-null    object\n",
      " 52  Капреомицин                                            450 non-null    object\n",
      " 53  ПАСК                                                   450 non-null    object\n",
      " 54  Офлоксацин                                             450 non-null    object\n",
      " 55  Режимы химиотерапии                                    450 non-null    object\n",
      " 56  Изменение режима                                       450 non-null    object\n",
      " 57  Объем терапии                                          450 non-null    object\n",
      " 58  Непереносимость                                        450 non-null    object\n",
      " 59  Бронхоскопия                                           450 non-null    object\n",
      " 60  Нефротоксичность                                       450 non-null    object\n",
      " 61  Ототоксичность                                         450 non-null    object\n",
      " 62  Поражение ЖКТ                                          450 non-null    object\n",
      " 63  Нейротоксичность                                       450 non-null    object\n",
      " 64  Гепатоксичность                                        450 non-null    object\n",
      " 65  Нарушение зрения                                       450 non-null    object\n",
      " 66  Аллергические реакции                                  450 non-null    object\n",
      " 67  Артралгии                                              450 non-null    object\n",
      " 68  Кардиотоксичность                                      450 non-null    object\n",
      " 69  Дерматит                                               450 non-null    object\n",
      " 70  Неврологические расстройства                           450 non-null    object\n",
      " 71  Не выявлено                                            450 non-null    object\n",
      " 72  Негативация мокроты                                    450 non-null    object\n",
      " 73  Положительная динамика клинических симптомов           450 non-null    object\n",
      " 74  Исчезновение лабораторных признаков                    450 non-null    object\n",
      " 75  Регрессия рентгенологических проявлений                450 non-null    object\n",
      " 76  Трудоспособность временно утрачена                     450 non-null    object\n",
      " 77  Лечение завершено (стационарный этап)                  450 non-null    object\n",
      " 78  Лечение прервано                                       450 non-null    object\n",
      " 79  Направлены на амбулаторное лечение (фаза продолжения)  450 non-null    object\n",
      " 80  Направлены на амбулаторное лечение (интенсивная фаза)  450 non-null    object\n",
      " 81  Переведен в другой стационар                           450 non-null    object\n",
      " 82  ВАРТ терапия                                           450 non-null    object\n",
      "dtypes: int64(5), object(78)\n",
      "memory usage: 295.3+ KB\n"
     ]
    }
   ],
   "source": [
    "data = data.fillna('неизвестно')\n",
    "data.info()"
   ]
  }
 ],
 "metadata": {
  "interpreter": {
   "hash": "b89b5cfaba6639976dc87ff2fec6d58faec662063367e2c229c520fe71072417"
  },
  "kernelspec": {
   "display_name": "Python 3.10.2 64-bit",
   "language": "python",
   "name": "python3"
  },
  "language_info": {
   "codemirror_mode": {
    "name": "ipython",
    "version": 3
   },
   "file_extension": ".py",
   "mimetype": "text/x-python",
   "name": "python",
   "nbconvert_exporter": "python",
   "pygments_lexer": "ipython3",
   "version": "3.10.2"
  },
  "orig_nbformat": 4
 },
 "nbformat": 4,
 "nbformat_minor": 2
}
