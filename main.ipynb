{
 "cells": [
  {
   "cell_type": "code",
   "execution_count": 530,
   "metadata": {},
   "outputs": [],
   "source": [
    "import pandas as pd\n",
    "import numpy as np\n",
    "import matplotlib.pyplot as plt\n",
    "import seaborn as sns\n",
    "from scipy.stats import chi2_contingency, chisquare\n",
    "sns.set_style('darkgrid')\n",
    "# максимум столбцов при выводе\n",
    "pd.options.display.max_columns = 1000\n",
    "data = pd.read_excel('dataset.xlsx')\n",
    "\n",
    "# удаление дубликатов\n",
    "cols = data.columns.delete(0)\n",
    "data.loc[data.duplicated(subset=cols)]\n",
    "data = data.drop_duplicates(subset=cols)\n",
    "\n",
    "# делаем название столбцов с заглавной буквы\n",
    "data.columns.array[0:10] = pd.Index(map(str.title, data.columns.array[0:10]))"
   ]
  },
  {
   "cell_type": "code",
   "execution_count": 531,
   "metadata": {},
   "outputs": [],
   "source": [
    "# удаляем столбцы, в которых нет значений\n",
    "data.dropna( how='all', axis=1, inplace = True)\n",
    "# удаляем столбец без названия\n",
    "del data['Unnamed: 31']"
   ]
  },
  {
   "cell_type": "code",
   "execution_count": 532,
   "metadata": {},
   "outputs": [],
   "source": [
    "# исправляем ошибки ввода данных \n",
    "data['ВИЧ-инфекция'] = data['ВИЧ-инфекция'].replace('да (ст IV Б)', 'да (IV Б стадия)')\n",
    "data['ВИЧ-инфекция'] = data['ВИЧ-инфекция'].replace('да (ст V)', 'да (V стадия)')\n",
    "data['ВИЧ-инфекция'] = data['ВИЧ-инфекция'].replace('да (ст IV В)', 'да (IV В стадия)')\n",
    "data['ВИЧ-инфекция'].value_counts()\n",
    "\n",
    "data['Курение стаж'] = data['Курение стаж'].replace('да', None)\n",
    "\n",
    "# пустые клетки заменяем на \"неизвестно \"\n",
    "data = data.fillna('неизвестно')"
   ]
  },
  {
   "cell_type": "code",
   "execution_count": 533,
   "metadata": {},
   "outputs": [],
   "source": [
    "# therapy_completed = data[data['Лечение прервано'] == 'По согласованию с врачом']\n",
    "# therapy_not_completed = data[data['Лечение прервано'] != 'По согласованию с врачом']\n",
    "# refused = data[data['Лечение прервано'] == 'да/отказ']\n",
    "# leave = data[data['Лечение прервано'] == 'да/самовольный уход']\n",
    "\n",
    "therapy_completed = data[(data['Лечение завершено (стационарный этап)'] == 'да')]\n",
    "therapy_not_completed = data[data['Лечение завершено (стационарный этап)'] == 'нет']\n",
    "\n"
   ]
  },
  {
   "cell_type": "code",
   "execution_count": 534,
   "metadata": {},
   "outputs": [],
   "source": [
    "womens = data[data['Пол'] == 'ж'].get(['Номер', 'Пол'])\n",
    "mens = data[data['Пол'] == 'м'].get(['Номер', 'Пол'])"
   ]
  },
  {
   "cell_type": "code",
   "execution_count": 535,
   "metadata": {},
   "outputs": [],
   "source": [
    "\n",
    "# max_day_therapy = data[data['К/Дней'] == max(data['К/Дней'])] ??????????????????\n",
    "max_day_therapy = data[data['К/Дней'] == max(data['К/Дней'])].get(['Номер', 'К/Дней'])\n",
    "min_day_therapy = data[data['К/Дней'] == min(data['К/Дней'])].get(['Номер', 'К/Дней'])\n"
   ]
  },
  {
   "cell_type": "code",
   "execution_count": 536,
   "metadata": {},
   "outputs": [
    {
     "data": {
      "image/png": "[encoded data removed]",
      "text/plain": [
       "<Figure size 432x288 with 1 Axes>"
      ]
     },
     "metadata": {},
     "output_type": "display_data"
    }
   ],
   "source": [
    "plt.hist(therapy_completed['Режимы химиотерапии'])\n",
    "plt.xlabel('Режимы химиотерапии')\n",
    "plt.ylabel('Количество пациентов')\n",
    "plt.show()\n"
   ]
  },
  {
   "cell_type": "code",
   "execution_count": 537,
   "metadata": {},
   "outputs": [
    {
     "data": {
      "image/png": "[encoded data removed]",
      "text/plain": [
       "<Figure size 432x288 with 1 Axes>"
      ]
     },
     "metadata": {},
     "output_type": "display_data"
    }
   ],
   "source": [
    "# гистограмма по возрасту\n",
    "plt.hist(therapy_completed['Возраст'])\n",
    "plt.xlabel('Возраст пациентов')\n",
    "plt.ylabel('Количество пациентов')\n",
    "plt.show()"
   ]
  },
  {
   "cell_type": "code",
   "execution_count": 538,
   "metadata": {},
   "outputs": [
    {
     "data": {
      "image/png": "[encoded data removed]",
      "text/plain": [
       "<Figure size 432x288 with 1 Axes>"
      ]
     },
     "metadata": {},
     "output_type": "display_data"
    }
   ],
   "source": [
    "plt.hist(therapy_completed['К/Дней'])\n",
    "plt.xlabel('Количество дней в стационаре')\n",
    "plt.ylabel('Количество пациентов')\n",
    "plt.show()"
   ]
  },
  {
   "cell_type": "code",
   "execution_count": 539,
   "metadata": {},
   "outputs": [
    {
     "name": "stdout",
     "output_type": "stream",
     "text": [
      "(0.9582886847498581, 0.6193130851193503, 2, array([[ 86.00888889,  77.99111111, 164.        ],\n",
      "       [149.99111111, 136.00888889, 286.        ]]))\n",
      "[[ 91  73 164]\n",
      " [145 141 286]]\n"
     ]
    },
    {
     "data": {
      "text/html": [
       "<div>\n",
       "<style scoped>\n",
       "    .dataframe tbody tr th:only-of-type {\n",
       "        vertical-align: middle;\n",
       "    }\n",
       "\n",
       "    .dataframe tbody tr th {\n",
       "        vertical-align: top;\n",
       "    }\n",
       "\n",
       "    .dataframe thead th {\n",
       "        text-align: right;\n",
       "    }\n",
       "</style>\n",
       "<table border=\"1\" class=\"dataframe\">\n",
       "  <thead>\n",
       "    <tr style=\"text-align: right;\">\n",
       "      <th>Лечение завершено (стационарный этап)</th>\n",
       "      <th>да</th>\n",
       "      <th>нет</th>\n",
       "      <th>All</th>\n",
       "    </tr>\n",
       "    <tr>\n",
       "      <th>Пол</th>\n",
       "      <th></th>\n",
       "      <th></th>\n",
       "      <th></th>\n",
       "    </tr>\n",
       "  </thead>\n",
       "  <tbody>\n",
       "    <tr>\n",
       "      <th>ж</th>\n",
       "      <td>91</td>\n",
       "      <td>73</td>\n",
       "      <td>164</td>\n",
       "    </tr>\n",
       "    <tr>\n",
       "      <th>м</th>\n",
       "      <td>145</td>\n",
       "      <td>141</td>\n",
       "      <td>286</td>\n",
       "    </tr>\n",
       "    <tr>\n",
       "      <th>All</th>\n",
       "      <td>236</td>\n",
       "      <td>214</td>\n",
       "      <td>450</td>\n",
       "    </tr>\n",
       "  </tbody>\n",
       "</table>\n",
       "</div>"
      ],
      "text/plain": [
       "Лечение завершено (стационарный этап)   да  нет  All\n",
       "Пол                                                 \n",
       "ж                                       91   73  164\n",
       "м                                      145  141  286\n",
       "All                                    236  214  450"
      ]
     },
     "execution_count": 539,
     "metadata": {},
     "output_type": "execute_result"
    }
   ],
   "source": [
    "chisqt = pd.crosstab(data['Пол'], data['Лечение завершено (стационарный этап)'], margins=True)\n",
    "value = np.array([chisqt.iloc[0][0:3].values,\n",
    "                  chisqt.iloc[1][0:3].values])\n",
    "\n",
    "print(chi2_contingency(value))\n",
    "print(value)\n",
    "chisqt"
   ]
  },
  {
   "cell_type": "markdown",
   "metadata": {},
   "source": []
  }
 ],
 "metadata": {
  "interpreter": {
   "hash": "b89b5cfaba6639976dc87ff2fec6d58faec662063367e2c229c520fe71072417"
  },
  "kernelspec": {
   "display_name": "Python 3.10.2 64-bit",
   "language": "python",
   "name": "python3"
  },
  "language_info": {
   "codemirror_mode": {
    "name": "ipython",
    "version": 3
   },
   "file_extension": ".py",
   "mimetype": "text/x-python",
   "name": "python",
   "nbconvert_exporter": "python",
   "pygments_lexer": "ipython3",
   "version": "3.10.2"
  },
  "orig_nbformat": 4
 },
 "nbformat": 4,
 "nbformat_minor": 2
}
