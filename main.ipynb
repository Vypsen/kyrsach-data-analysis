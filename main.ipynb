{
 "cells": [
  {
   "cell_type": "code",
   "execution_count": 310,
   "metadata": {},
   "outputs": [],
   "source": [
    "import pandas as pd\n",
    "import numpy as np\n",
    "import matplotlib.pyplot as plt\n",
    "import seaborn as sns\n",
    "sns.set_style('darkgrid')\n",
    "# максимум столбцов при выводе\n",
    "pd.options.display.max_columns = 1000\n",
    "data = pd.read_excel('dataset.xlsx')\n",
    "\n",
    "# удаление дубликатов\n",
    "cols = data.columns.delete(0)\n",
    "data.loc[data.duplicated(subset=cols)]\n",
    "data = data.drop_duplicates(subset=cols)\n",
    "\n",
    "# делаем название столбцов с заглавной буквы\n",
    "data.columns.array[0:10] = pd.Index(map(str.title, data.columns.array[0:10]))"
   ]
  },
  {
   "cell_type": "code",
   "execution_count": 311,
   "metadata": {},
   "outputs": [],
   "source": [
    "# удаляем столбцы, в которых нет значений\n",
    "data.dropna( how='all', axis=1, inplace = True)\n",
    "# удаляем столбец без названия\n",
    "del data['Unnamed: 31']"
   ]
  },
  {
   "cell_type": "code",
   "execution_count": 312,
   "metadata": {},
   "outputs": [],
   "source": [
    "# исправляем ошибки ввода данных \n",
    "data['ВИЧ-инфекция'] = data['ВИЧ-инфекция'].replace('да (ст IV Б)', 'да (IV Б стадия)')\n",
    "data['ВИЧ-инфекция'] = data['ВИЧ-инфекция'].replace('да (ст V)', 'да (V стадия)')\n",
    "data['ВИЧ-инфекция'] = data['ВИЧ-инфекция'].replace('да (ст IV В)', 'да (IV В стадия)')\n",
    "data['ВИЧ-инфекция'].value_counts()\n",
    "\n",
    "data['Курение стаж'] = data['Курение стаж'].replace('да', None)\n",
    "\n",
    "# пустые клетки заменяем на \"неизвестно \"\n",
    "data = data.fillna('неизвестно')"
   ]
  },
  {
   "cell_type": "code",
   "execution_count": 313,
   "metadata": {},
   "outputs": [
    {
     "data": {
      "text/plain": [
       "неизвестно                         252\n",
       "да/самовольный уход                141\n",
       "да/нарушение режима                 26\n",
       "да/отказ                            15\n",
       "да/переведен в другой стационар     11\n",
       "По согласованию с врачом             5\n",
       "Name: Лечение прервано, dtype: int64"
      ]
     },
     "execution_count": 313,
     "metadata": {},
     "output_type": "execute_result"
    }
   ],
   "source": [
    "therapy_completed = data[data['Лечение прервано'] == 'По согласованию с врачом']\n",
    "therapy_not_completed = data[data['Лечение прервано'] != 'По согласованию с врачом']\n",
    "refused = data[data['Лечение прервано'] == 'да/отказ']\n",
    "leave = data[data['Лечение прервано'] == 'да/самовольный уход']\n",
    "\n",
    "data['Лечение прервано'].value_counts()\n"
   ]
  },
  {
   "cell_type": "code",
   "execution_count": 314,
   "metadata": {},
   "outputs": [],
   "source": [
    "womens = data[data['Пол'] == 'ж'].get(['Номер', 'Пол'])\n",
    "mens = data[data['Пол'] == 'м'].get(['Номер', 'Пол'])"
   ]
  },
  {
   "cell_type": "code",
   "execution_count": 315,
   "metadata": {},
   "outputs": [],
   "source": [
    "\n",
    "# max_day_therapy = data[data['К/Дней'] == max(data['К/Дней'])] ??????????????????\n",
    "max_day_therapy = data[data['К/Дней'] == max(data['К/Дней'])].get(['Номер', 'К/Дней'])\n",
    "min_day_therapy = data[data['К/Дней'] == min(data['К/Дней'])].get(['Номер', 'К/Дней'])\n"
   ]
  },
  {
   "cell_type": "code",
   "execution_count": 316,
   "metadata": {},
   "outputs": [
    {
     "data": {
      "image/png": "[encoded data removed]",
      "text/plain": [
       "<Figure size 432x288 with 1 Axes>"
      ]
     },
     "metadata": {},
     "output_type": "display_data"
    }
   ],
   "source": [
    "plt.hist(data['Режимы химиотерапии'])\n",
    "plt.xlabel('Режимы химиотерапии')\n",
    "plt.ylabel('Количество пациентов')\n",
    "plt.show()"
   ]
  },
  {
   "cell_type": "code",
   "execution_count": 317,
   "metadata": {},
   "outputs": [
    {
     "data": {
      "image/png": "[encoded data removed]",
      "text/plain": [
       "<Figure size 432x288 with 1 Axes>"
      ]
     },
     "metadata": {},
     "output_type": "display_data"
    }
   ],
   "source": [
    "# гистограмма по возрасту\n",
    "plt.hist(data['Возраст'])\n",
    "plt.xlabel('Возраст пациентов')\n",
    "plt.ylabel('Количество пациентов')\n",
    "plt.show()"
   ]
  },
  {
   "cell_type": "code",
   "execution_count": null,
   "metadata": {},
   "outputs": [],
   "source": []
  }
 ],
 "metadata": {
  "interpreter": {
   "hash": "b89b5cfaba6639976dc87ff2fec6d58faec662063367e2c229c520fe71072417"
  },
  "kernelspec": {
   "display_name": "Python 3.10.2 64-bit",
   "language": "python",
   "name": "python3"
  },
  "language_info": {
   "codemirror_mode": {
    "name": "ipython",
    "version": 3
   },
   "file_extension": ".py",
   "mimetype": "text/x-python",
   "name": "python",
   "nbconvert_exporter": "python",
   "pygments_lexer": "ipython3",
   "version": "3.10.2"
  },
  "orig_nbformat": 4
 },
 "nbformat": 4,
 "nbformat_minor": 2
}
