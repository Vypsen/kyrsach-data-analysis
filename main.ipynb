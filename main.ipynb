{
 "cells": [
  {
   "cell_type": "code",
   "execution_count": 68,
   "metadata": {},
   "outputs": [],
   "source": [
    "import pandas as pd\n",
    "import numpy as np\n",
    "\n",
    "data = pd.read_excel('dataset.xlsx')\n",
    "\n",
    "data.columns.array[0:10] = pd.Index(map(str.title, data.columns.array[0:10]))\n",
    "cols = data.columns.delete(0)\n",
    "data.loc[data.duplicated(subset=cols)]\n",
    "data = data.drop_duplicates(subset=cols)\n",
    "\n"
   ]
  },
  {
   "cell_type": "code",
   "execution_count": 69,
   "metadata": {},
   "outputs": [],
   "source": [
    "data.dropna( how='all', axis=1, inplace = True)\n",
    "del data['Unnamed: 31']\n"
   ]
  },
  {
   "cell_type": "code",
   "execution_count": 70,
   "metadata": {},
   "outputs": [
    {
     "data": {
      "text/plain": [
       "да (IV Б стадия)    53\n",
       "да (IV В стадия)    12\n",
       "да (V стадия)        8\n",
       "да (IV А стадия)     3\n",
       "Name: ВИЧ-инфекция, dtype: int64"
      ]
     },
     "execution_count": 70,
     "metadata": {},
     "output_type": "execute_result"
    }
   ],
   "source": [
    "data['ВИЧ-инфекция'] = data['ВИЧ-инфекция'].replace('да (ст IV Б)', 'да (IV Б стадия)')\n",
    "data['ВИЧ-инфекция'] = data['ВИЧ-инфекция'].replace('да (ст V)', 'да (V стадия)')\n",
    "data['ВИЧ-инфекция'] = data['ВИЧ-инфекция'].replace('да (ст IV В)', 'да (IV В стадия)')\n",
    "data['ВИЧ-инфекция'].value_counts()"
   ]
  },
  {
   "cell_type": "code",
   "execution_count": 71,
   "metadata": {},
   "outputs": [],
   "source": [
    "data['Курение стаж'] = data['Курение стаж'].replace('да', None)\n",
    "data = data.fillna('неизвестно')"
   ]
  },
  {
   "cell_type": "code",
   "execution_count": 72,
   "metadata": {},
   "outputs": [],
   "source": [
    "data['Лечение прервано'].value_counts()\n",
    "\n",
    "data.to_excel('newDataset.xlsx')"
   ]
  }
 ],
 "metadata": {
  "interpreter": {
   "hash": "b89b5cfaba6639976dc87ff2fec6d58faec662063367e2c229c520fe71072417"
  },
  "kernelspec": {
   "display_name": "Python 3.10.2 64-bit",
   "language": "python",
   "name": "python3"
  },
  "language_info": {
   "codemirror_mode": {
    "name": "ipython",
    "version": 3
   },
   "file_extension": ".py",
   "mimetype": "text/x-python",
   "name": "python",
   "nbconvert_exporter": "python",
   "pygments_lexer": "ipython3",
   "version": "3.10.2"
  },
  "orig_nbformat": 4
 },
 "nbformat": 4,
 "nbformat_minor": 2
}
